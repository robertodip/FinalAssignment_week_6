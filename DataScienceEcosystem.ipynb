{
 "cells": [
  {
   "cell_type": "markdown",
   "id": "8ec3761d-8f03-4b90-80d6-02d41d31bf7a",
   "metadata": {},
   "source": [
    "# Data Science Tools and Ecosystem"
   ]
  },
  {
   "cell_type": "markdown",
   "id": "60b9e4dd-7a2d-430e-bcac-7a97d53dbf74",
   "metadata": {
    "tags": []
   },
   "source": [
    "In this notebook, Data Science Tools and Ecosystem are summarized."
   ]
  },
  {
   "cell_type": "markdown",
   "id": "a309a1a8-deb1-4700-8928-e259bfc57323",
   "metadata": {
    "tags": []
   },
   "source": [
    "Some of the popular languages that Data Scientists use are:\n",
    "1. Python\n",
    "2. R\n",
    "3. SQL\n",
    "4. SAS"
   ]
  },
  {
   "cell_type": "markdown",
   "id": "069efc05-f44d-4173-9a7a-e8d615b3530d",
   "metadata": {},
   "source": [
    "Some of the commonly used libraries used by Data Scientists include:\n",
    "\n",
    "1. NumPy\n",
    "2. Pandas\n",
    "3. Scikit-Learn\n",
    "4. TensorFlow"
   ]
  },
  {
   "cell_type": "markdown",
   "id": "7c62c928-3d8e-4385-a137-8b111ef4914d",
   "metadata": {},
   "source": [
    "| Data Science Tools |\n",
    "| --- |\n",
    "| Jupyter Notebook |\n",
    "| RStudio |\n",
    "| Spyder |"
   ]
  },
  {
   "cell_type": "markdown",
   "id": "671c4acb-07dc-4b23-8301-61757c2173c7",
   "metadata": {},
   "source": [
    "### Below are a few examples of evaluating arithmetic expressions in Python."
   ]
  },
  {
   "cell_type": "markdown",
   "id": "303e5df3-11e6-4ce4-a8fb-e49a568685b3",
   "metadata": {},
   "source": [
    "### Addition\n",
    "2 + 2\n",
    "\n",
    "### Subtraction\n",
    "5 - 3\n",
    "\n",
    "### Multiplication\n",
    "4 * 6\n",
    "\n",
    "### Division\n",
    "10 / 2\n",
    "\n",
    "### Exponentiation\n",
    "2 ** 3\n",
    "\n",
    "### Modulo\n",
    "7 % 3"
   ]
  },
  {
   "cell_type": "code",
   "execution_count": 4,
   "id": "a78caf2c-a289-4836-bc23-5e9484449d76",
   "metadata": {
    "tags": []
   },
   "outputs": [
    {
     "data": {
      "text/plain": [
       "17"
      ]
     },
     "execution_count": 4,
     "metadata": {},
     "output_type": "execute_result"
    }
   ],
   "source": [
    "# This is a simple arithmetic expression to multiply then add integers.\n",
    "(3 * 4) + 5"
   ]
  },
  {
   "cell_type": "code",
   "execution_count": 5,
   "id": "fc143595-338e-44c7-9f4c-bd0625dd31ac",
   "metadata": {
    "tags": []
   },
   "outputs": [
    {
     "data": {
      "text/plain": [
       "3.3333333333333335"
      ]
     },
     "execution_count": 5,
     "metadata": {},
     "output_type": "execute_result"
    }
   ],
   "source": [
    "# This will convert 200 minutes to hours by dividing by 60.\n",
    "200 / 60"
   ]
  },
  {
   "cell_type": "markdown",
   "id": "0244532e-8d69-4491-986a-67e6d81921da",
   "metadata": {},
   "source": [
    "**Objectives:**\n",
    "\n",
    "- List popular languages for Data Science.\n",
    "- Introduce arithmetic expressions in Python.\n",
    "- Create ordered and unordered lists in Markdown.\n",
    "- Introduce Jupyter Notebook and its features.\n",
    "- Use Markdown to format text in Jupyter Notebook."
   ]
  },
  {
   "cell_type": "markdown",
   "id": "36524ba8-6e95-48f3-92c7-58560076bb49",
   "metadata": {},
   "source": [
    "## Author\n",
    "\n",
    "Roberto Dip"
   ]
  },
  {
   "cell_type": "code",
   "execution_count": null,
   "id": "9329d9fa-f332-4816-9c7a-10a55d2bb7a8",
   "metadata": {},
   "outputs": [],
   "source": []
  }
 ],
 "metadata": {
  "kernelspec": {
   "display_name": "Python",
   "language": "python",
   "name": "conda-env-python-py"
  },
  "language_info": {
   "codemirror_mode": {
    "name": "ipython",
    "version": 3
   },
   "file_extension": ".py",
   "mimetype": "text/x-python",
   "name": "python",
   "nbconvert_exporter": "python",
   "pygments_lexer": "ipython3",
   "version": "3.7.12"
  }
 },
 "nbformat": 4,
 "nbformat_minor": 5
}
